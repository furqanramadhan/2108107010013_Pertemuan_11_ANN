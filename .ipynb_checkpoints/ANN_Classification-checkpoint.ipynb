{
 "cells": [
  {
   "cell_type": "code",
   "execution_count": 409,
   "id": "5d694fef-3070-4e71-b206-9dd41ed37ac9",
   "metadata": {},
   "outputs": [],
   "source": [
    "# Import libary yang dibutuhkan \n",
    "import warnings\n",
    "warnings.filterwarnings('ignore')\n",
    "%matplotlib inline\n",
    "\n",
    "import numpy as np\n",
    "import matplotlib.pyplot as plt\n",
    "import pandas as pd\n",
    "import seaborn as sns"
   ]
  },
  {
   "cell_type": "code",
   "execution_count": 410,
   "id": "e69383c1-223d-43ab-a3b4-5020fc100089",
   "metadata": {},
   "outputs": [],
   "source": [
    "# Read dataset\n",
    "data = 'dataset/klasifikasi/cell_samples.csv'\n",
    "df = pd.read_csv(data)"
   ]
  },
  {
   "cell_type": "code",
   "execution_count": 411,
   "id": "650e3d5c-7a1d-4e70-882a-0bd5c4dfdff4",
   "metadata": {},
   "outputs": [
    {
     "data": {
      "text/plain": [
       "(699, 11)"
      ]
     },
     "execution_count": 411,
     "metadata": {},
     "output_type": "execute_result"
    }
   ],
   "source": [
    "df.shape"
   ]
  },
  {
   "cell_type": "code",
   "execution_count": 412,
   "id": "f479fd33-5cde-4535-9b5c-bc57f987e233",
   "metadata": {},
   "outputs": [
    {
     "data": {
      "text/html": [
       "<div>\n",
       "<style scoped>\n",
       "    .dataframe tbody tr th:only-of-type {\n",
       "        vertical-align: middle;\n",
       "    }\n",
       "\n",
       "    .dataframe tbody tr th {\n",
       "        vertical-align: top;\n",
       "    }\n",
       "\n",
       "    .dataframe thead th {\n",
       "        text-align: right;\n",
       "    }\n",
       "</style>\n",
       "<table border=\"1\" class=\"dataframe\">\n",
       "  <thead>\n",
       "    <tr style=\"text-align: right;\">\n",
       "      <th></th>\n",
       "      <th>ID</th>\n",
       "      <th>Clump</th>\n",
       "      <th>UnifSize</th>\n",
       "      <th>UnifShape</th>\n",
       "      <th>MargAdh</th>\n",
       "      <th>SingEpiSize</th>\n",
       "      <th>BareNuc</th>\n",
       "      <th>BlandChrom</th>\n",
       "      <th>NormNucl</th>\n",
       "      <th>Mit</th>\n",
       "      <th>Class</th>\n",
       "    </tr>\n",
       "  </thead>\n",
       "  <tbody>\n",
       "    <tr>\n",
       "      <th>0</th>\n",
       "      <td>1000025</td>\n",
       "      <td>5</td>\n",
       "      <td>1</td>\n",
       "      <td>1</td>\n",
       "      <td>1</td>\n",
       "      <td>2</td>\n",
       "      <td>1</td>\n",
       "      <td>3</td>\n",
       "      <td>1</td>\n",
       "      <td>1</td>\n",
       "      <td>2</td>\n",
       "    </tr>\n",
       "    <tr>\n",
       "      <th>1</th>\n",
       "      <td>1002945</td>\n",
       "      <td>5</td>\n",
       "      <td>4</td>\n",
       "      <td>4</td>\n",
       "      <td>5</td>\n",
       "      <td>7</td>\n",
       "      <td>10</td>\n",
       "      <td>3</td>\n",
       "      <td>2</td>\n",
       "      <td>1</td>\n",
       "      <td>2</td>\n",
       "    </tr>\n",
       "    <tr>\n",
       "      <th>2</th>\n",
       "      <td>1015425</td>\n",
       "      <td>3</td>\n",
       "      <td>1</td>\n",
       "      <td>1</td>\n",
       "      <td>1</td>\n",
       "      <td>2</td>\n",
       "      <td>2</td>\n",
       "      <td>3</td>\n",
       "      <td>1</td>\n",
       "      <td>1</td>\n",
       "      <td>2</td>\n",
       "    </tr>\n",
       "    <tr>\n",
       "      <th>3</th>\n",
       "      <td>1016277</td>\n",
       "      <td>6</td>\n",
       "      <td>8</td>\n",
       "      <td>8</td>\n",
       "      <td>1</td>\n",
       "      <td>3</td>\n",
       "      <td>4</td>\n",
       "      <td>3</td>\n",
       "      <td>7</td>\n",
       "      <td>1</td>\n",
       "      <td>2</td>\n",
       "    </tr>\n",
       "    <tr>\n",
       "      <th>4</th>\n",
       "      <td>1017023</td>\n",
       "      <td>4</td>\n",
       "      <td>1</td>\n",
       "      <td>1</td>\n",
       "      <td>3</td>\n",
       "      <td>2</td>\n",
       "      <td>1</td>\n",
       "      <td>3</td>\n",
       "      <td>1</td>\n",
       "      <td>1</td>\n",
       "      <td>2</td>\n",
       "    </tr>\n",
       "  </tbody>\n",
       "</table>\n",
       "</div>"
      ],
      "text/plain": [
       "        ID  Clump  UnifSize  UnifShape  MargAdh  SingEpiSize BareNuc  \\\n",
       "0  1000025      5         1          1        1            2       1   \n",
       "1  1002945      5         4          4        5            7      10   \n",
       "2  1015425      3         1          1        1            2       2   \n",
       "3  1016277      6         8          8        1            3       4   \n",
       "4  1017023      4         1          1        3            2       1   \n",
       "\n",
       "   BlandChrom  NormNucl  Mit  Class  \n",
       "0           3         1    1      2  \n",
       "1           3         2    1      2  \n",
       "2           3         1    1      2  \n",
       "3           3         7    1      2  \n",
       "4           3         1    1      2  "
      ]
     },
     "execution_count": 412,
     "metadata": {},
     "output_type": "execute_result"
    }
   ],
   "source": [
    "df.head(5)"
   ]
  },
  {
   "cell_type": "code",
   "execution_count": 414,
   "id": "7c43e761-f8b7-435f-b6e0-06abe3c66b3f",
   "metadata": {},
   "outputs": [],
   "source": [
    "def dataSetAnalysis(df):\n",
    "    #view starting values of data set\n",
    "    print(\"Dataset Head\")\n",
    "    print(df.head(3))\n",
    "    print(\"=\" * 100)\n",
    "    \n",
    "    # View features in data set\n",
    "    print(\"Dataset Features\")\n",
    "    print(df.columns.values)\n",
    "    print(\"=\" * 100)\n",
    "    \n",
    "    # View How many samples and how many missing values for each feature\n",
    "    print(\"Dataset Features Details\")\n",
    "    print(df.info())\n",
    "    print(\"=\" * 100)\n",
    "    \n",
    "    # view distribution of numerical features across the data set\n",
    "    print(\"Dataset Numerical Features\")\n",
    "    print(df.describe())\n",
    "    print(\"=\" * 100)\n",
    "    \n",
    "    # view distribution of categorical features across the data set\n",
    "    print(\"Dataset Categorical Features\")\n",
    "    print(df.describe(include=['O']))\n",
    "    print(\"=\" * 100)"
   ]
  },
  {
   "cell_type": "code",
   "execution_count": 415,
   "id": "17a4ba16-140d-4c9c-a0d6-0ca2d237646e",
   "metadata": {},
   "outputs": [
    {
     "name": "stdout",
     "output_type": "stream",
     "text": [
      "Dataset Head\n",
      "        ID  Clump  UnifSize  UnifShape  MargAdh  SingEpiSize BareNuc  \\\n",
      "0  1000025      5         1          1        1            2       1   \n",
      "1  1002945      5         4          4        5            7      10   \n",
      "2  1015425      3         1          1        1            2       2   \n",
      "\n",
      "   BlandChrom  NormNucl  Mit  Class  \n",
      "0           3         1    1      2  \n",
      "1           3         2    1      2  \n",
      "2           3         1    1      2  \n",
      "====================================================================================================\n",
      "Dataset Features\n",
      "['ID' 'Clump' 'UnifSize' 'UnifShape' 'MargAdh' 'SingEpiSize' 'BareNuc'\n",
      " 'BlandChrom' 'NormNucl' 'Mit' 'Class']\n",
      "====================================================================================================\n",
      "Dataset Features Details\n",
      "<class 'pandas.core.frame.DataFrame'>\n",
      "RangeIndex: 699 entries, 0 to 698\n",
      "Data columns (total 11 columns):\n",
      " #   Column       Non-Null Count  Dtype \n",
      "---  ------       --------------  ----- \n",
      " 0   ID           699 non-null    int64 \n",
      " 1   Clump        699 non-null    int64 \n",
      " 2   UnifSize     699 non-null    int64 \n",
      " 3   UnifShape    699 non-null    int64 \n",
      " 4   MargAdh      699 non-null    int64 \n",
      " 5   SingEpiSize  699 non-null    int64 \n",
      " 6   BareNuc      699 non-null    object\n",
      " 7   BlandChrom   699 non-null    int64 \n",
      " 8   NormNucl     699 non-null    int64 \n",
      " 9   Mit          699 non-null    int64 \n",
      " 10  Class        699 non-null    int64 \n",
      "dtypes: int64(10), object(1)\n",
      "memory usage: 60.2+ KB\n",
      "None\n",
      "====================================================================================================\n",
      "Dataset Numerical Features\n",
      "                 ID       Clump    UnifSize   UnifShape     MargAdh  \\\n",
      "count  6.990000e+02  699.000000  699.000000  699.000000  699.000000   \n",
      "mean   1.071704e+06    4.417740    3.134478    3.207439    2.806867   \n",
      "std    6.170957e+05    2.815741    3.051459    2.971913    2.855379   \n",
      "min    6.163400e+04    1.000000    1.000000    1.000000    1.000000   \n",
      "25%    8.706885e+05    2.000000    1.000000    1.000000    1.000000   \n",
      "50%    1.171710e+06    4.000000    1.000000    1.000000    1.000000   \n",
      "75%    1.238298e+06    6.000000    5.000000    5.000000    4.000000   \n",
      "max    1.345435e+07   10.000000   10.000000   10.000000   10.000000   \n",
      "\n",
      "       SingEpiSize  BlandChrom    NormNucl         Mit       Class  \n",
      "count   699.000000  699.000000  699.000000  699.000000  699.000000  \n",
      "mean      3.216023    3.437768    2.866953    1.589413    2.689557  \n",
      "std       2.214300    2.438364    3.053634    1.715078    0.951273  \n",
      "min       1.000000    1.000000    1.000000    1.000000    2.000000  \n",
      "25%       2.000000    2.000000    1.000000    1.000000    2.000000  \n",
      "50%       2.000000    3.000000    1.000000    1.000000    2.000000  \n",
      "75%       4.000000    5.000000    4.000000    1.000000    4.000000  \n",
      "max      10.000000   10.000000   10.000000   10.000000    4.000000  \n",
      "====================================================================================================\n",
      "Dataset Categorical Features\n",
      "       BareNuc\n",
      "count      699\n",
      "unique      11\n",
      "top          1\n",
      "freq       402\n",
      "====================================================================================================\n"
     ]
    }
   ],
   "source": [
    "dataSetAnalysis(df)"
   ]
  },
  {
   "cell_type": "code",
   "execution_count": 416,
   "id": "be549375-4aa8-4d27-8278-b6f6d911088f",
   "metadata": {},
   "outputs": [
    {
     "data": {
      "text/plain": [
       "ID             0.000000\n",
       "Clump          0.000000\n",
       "UnifSize       0.000000\n",
       "UnifShape      0.000000\n",
       "MargAdh        0.000000\n",
       "SingEpiSize    0.000000\n",
       "BareNuc        2.288984\n",
       "BlandChrom     0.000000\n",
       "NormNucl       0.000000\n",
       "Mit            0.000000\n",
       "Class          0.000000\n",
       "dtype: float64"
      ]
     },
     "execution_count": 416,
     "metadata": {},
     "output_type": "execute_result"
    }
   ],
   "source": [
    "# Because i check there's 16 data null with symbol '?', we replace to NaN\n",
    "\n",
    "df.replace('?', pd.NA, inplace=True)  # Use pd.NA to represent missing values in pandas\n",
    "\n",
    "# In percentage\n",
    "df.isna().sum() / len(df) * 100"
   ]
  },
  {
   "cell_type": "code",
   "execution_count": 417,
   "id": "7aad1b14-ac95-4ac6-8eb6-f1c496ece299",
   "metadata": {},
   "outputs": [],
   "source": [
    "# We want to implace the NaN values with 0.\n",
    "df['BareNuc'].fillna(0, inplace=True)"
   ]
  },
  {
   "cell_type": "code",
   "execution_count": 418,
   "id": "93ff2b74-a825-4268-a62f-9d2a25612e79",
   "metadata": {},
   "outputs": [
    {
     "data": {
      "text/plain": [
       "ID             0\n",
       "Clump          0\n",
       "UnifSize       0\n",
       "UnifShape      0\n",
       "MargAdh        0\n",
       "SingEpiSize    0\n",
       "BareNuc        0\n",
       "BlandChrom     0\n",
       "NormNucl       0\n",
       "Mit            0\n",
       "Class          0\n",
       "dtype: int64"
      ]
     },
     "execution_count": 418,
     "metadata": {},
     "output_type": "execute_result"
    }
   ],
   "source": [
    "# Check again if null values has been filled\n",
    "\n",
    "df.isnull().sum()"
   ]
  },
  {
   "cell_type": "code",
   "execution_count": 419,
   "id": "250ac4f6-4436-485c-a115-d0993fbdb692",
   "metadata": {},
   "outputs": [
    {
     "data": {
      "text/plain": [
       "Class\n",
       "2    0.655222\n",
       "4    0.344778\n",
       "Name: count, dtype: float64"
      ]
     },
     "execution_count": 419,
     "metadata": {},
     "output_type": "execute_result"
    }
   ],
   "source": [
    "# View percentage distribution of target_class\n",
    "df['Class'].value_counts()/float(len(df))"
   ]
  },
  {
   "cell_type": "code",
   "execution_count": 420,
   "id": "be9c6319-08fc-4f5d-b27a-bf7018845538",
   "metadata": {},
   "outputs": [],
   "source": [
    "# Replace class 2 and class 4 to 0 and 1\n",
    "df['Class'] = df['Class'].replace({2: 0, 4: 1})"
   ]
  },
  {
   "cell_type": "markdown",
   "id": "fa527a6a-a633-43cd-8beb-fd3b9e0edcb5",
   "metadata": {},
   "source": [
    "Class 0 memiliki arti sel kanker yang masih bersifat jinak\n",
    "Class 1 memiliki arti sel kanker yang ganas"
   ]
  },
  {
   "cell_type": "code",
   "execution_count": 421,
   "id": "6bf3b25e-9426-4063-b8a8-8bd0d475bebb",
   "metadata": {},
   "outputs": [
    {
     "name": "stdout",
     "output_type": "stream",
     "text": [
      "Class\n",
      "0    458\n",
      "1    241\n",
      "Name: count, dtype: int64\n"
     ]
    }
   ],
   "source": [
    "print(df['Class'].value_counts())"
   ]
  },
  {
   "cell_type": "code",
   "execution_count": 422,
   "id": "cddafba8-8e29-404b-ae2f-860a7446d3f9",
   "metadata": {},
   "outputs": [],
   "source": [
    "# Melakukan pemilihan dengan Slicing, dari kolom 2-10\n",
    "# Target Class berada pada kolom 11\n",
    "\n",
    "\"\"\" Slicing X and y variables\n",
    "X, variabel independen, membutuhkan kolom 2-10\n",
    "y, variabel terikat, membutuhkan kolom terakhir\n",
    "\"\"\"\n",
    "\n",
    "X = df.iloc[:, 1:9].values  \n",
    "y = df.iloc[:, 10].values  "
   ]
  },
  {
   "cell_type": "code",
   "execution_count": 423,
   "id": "eeebcb2e-5ddf-45eb-8676-6733c171fda2",
   "metadata": {},
   "outputs": [],
   "source": [
    "# Memasukkan data kedalam training dan test set\n",
    "\n",
    "from sklearn.model_selection import train_test_split\n",
    "\n",
    "X_train, X_test, y_train, y_test = train_test_split(X, y, test_size = 0.2, random_state = 0)"
   ]
  },
  {
   "cell_type": "code",
   "execution_count": 424,
   "id": "d95f087d-3e0c-4d8e-a98c-2745a74980c5",
   "metadata": {},
   "outputs": [],
   "source": [
    "# Feature Scaling\n",
    "from sklearn.preprocessing import StandardScaler\n",
    "\n",
    "sc = StandardScaler()\n",
    "X_train = sc.fit_transform(X_train)\n",
    "X_test = sc.transform(X_test)"
   ]
  },
  {
   "cell_type": "code",
   "execution_count": null,
   "id": "cdf95020-6fc8-4e78-bc1d-d8eae74f4b82",
   "metadata": {},
   "outputs": [],
   "source": [
    "# Import TensorFlow, Keras, Sequential, Dense\n",
    "import tensorflow as tf\n",
    "\n",
    "from tensorflow.keras.models import Sequential\n",
    "from tensorflow.keras.layers import Dense\n",
    "\n",
    "# Initialize ANN\n",
    "classifier = Sequential()"
   ]
  },
  {
   "cell_type": "code",
   "execution_count": null,
   "id": "3b9171a7-5cbb-453f-8c1a-46e54be2c76c",
   "metadata": {},
   "outputs": [],
   "source": [
    "# Tambahkan layer input dan layer tersembunyi pertama\n",
    "classifier.add(Dense(units=6, activation='relu', input_dim=8))\n",
    "\n",
    "# Tambahkan layer tersembunyi kedua\n",
    "classifier.add(Dense(units=6, activation='relu'))\n",
    "\n",
    "# Tambahkan layer tersembunyi ketiga (contoh)\n",
    "classifier.add(Dense(units=6, activation='relu'))\n",
    "\n",
    "# Tambahkan layer output\n",
    "classifier.add(Dense(units=1, activation='sigmoid'))"
   ]
  },
  {
   "cell_type": "code",
   "execution_count": null,
   "id": "5dff0bf6-051a-42d1-843d-2462cb6e0b1f",
   "metadata": {},
   "outputs": [],
   "source": [
    "classifier.compile(optimizer = 'adam', loss = 'binary_crossentropy', metrics = ['accuracy'])"
   ]
  },
  {
   "cell_type": "code",
   "execution_count": null,
   "id": "9726e5cb-bd4a-43b4-81cf-2db009bafff0",
   "metadata": {},
   "outputs": [],
   "source": [
    "classifier.fit(X_train, y_train, batch_size = 32, epochs = 100)"
   ]
  },
  {
   "cell_type": "code",
   "execution_count": null,
   "id": "5bfa21a2-0428-40d6-a6c6-3aea25cbc658",
   "metadata": {},
   "outputs": [],
   "source": []
  }
 ],
 "metadata": {
  "kernelspec": {
   "display_name": "Python 3 (ipykernel)",
   "language": "python",
   "name": "python3"
  },
  "language_info": {
   "codemirror_mode": {
    "name": "ipython",
    "version": 3
   },
   "file_extension": ".py",
   "mimetype": "text/x-python",
   "name": "python",
   "nbconvert_exporter": "python",
   "pygments_lexer": "ipython3",
   "version": "3.11.6"
  }
 },
 "nbformat": 4,
 "nbformat_minor": 5
}
